{
 "cells": [
  {
   "cell_type": "markdown",
   "id": "2c56e3c9",
   "metadata": {},
   "source": [
    "# Q-1. Imagine you have a dataset where you have different Instagram features\n",
    "like username , Caption , Hashtag , Followers , Time_Since_posted , and likes , now your task is\n",
    "to predict the number of likes and Time Since posted and the rest of the features are\n",
    "your input features. Now you have to build a model which can predict the\n",
    "number of likes and Time Since posted.\n",
    "Dataset This is the Dataset You can use this dataset for this question."
   ]
  },
  {
   "cell_type": "code",
   "execution_count": null,
   "id": "387b90bd",
   "metadata": {},
   "outputs": [],
   "source": [
    "# This is still work in progress. Please check question 2 first . Thnk You"
   ]
  },
  {
   "cell_type": "code",
   "execution_count": 4,
   "id": "88122e0b",
   "metadata": {},
   "outputs": [
    {
     "name": "stdout",
     "output_type": "stream",
     "text": [
      "Detected Encoding: Windows-1254\n",
      "Confidence: 0.5614033456781079\n"
     ]
    }
   ],
   "source": [
    "import chardet\n",
    "\n",
    "# Specify the file path\n",
    "file_path = r'C:\\documents\\ineuron\\Assignments\\ml_question1_data\\instagram_reach.csv'\n",
    "\n",
    "# Open the file in binary mode and read a portion of it to detect the encoding\n",
    "with open(file_path, 'rb') as f:\n",
    "    raw_data = f.read(100000)  # Read the first 100,000 bytes or adjust as needed\n",
    "\n",
    "# Detect the encoding of the file\n",
    "result = chardet.detect(raw_data)\n",
    "encoding = result['encoding']\n",
    "confidence = result['confidence']\n",
    "\n",
    "print(\"Detected Encoding:\", encoding)\n",
    "print(\"Confidence:\", confidence)\n"
   ]
  },
  {
   "cell_type": "code",
   "execution_count": 2,
   "id": "7d7e535a",
   "metadata": {},
   "outputs": [
    {
     "name": "stdout",
     "output_type": "stream",
     "text": [
      "Collecting chardet\n",
      "  Downloading chardet-5.1.0-py3-none-any.whl (199 kB)\n",
      "Installing collected packages: chardet\n",
      "Successfully installed chardet-5.1.0\n",
      "Note: you may need to restart the kernel to use updated packages.\n"
     ]
    },
    {
     "name": "stderr",
     "output_type": "stream",
     "text": [
      "WARNING: You are using pip version 21.2.4; however, version 23.1.2 is available.\n",
      "You should consider upgrading via the 'C:\\Users\\0002J0744\\AppData\\Local\\Programs\\Python\\Python39\\python.exe -m pip install --upgrade pip' command.\n"
     ]
    }
   ],
   "source": [
    "pip install chardet"
   ]
  },
  {
   "cell_type": "code",
   "execution_count": 23,
   "id": "a7459553",
   "metadata": {},
   "outputs": [
    {
     "name": "stdout",
     "output_type": "stream",
     "text": [
      "Detected Encoding: Windows-1254\n",
      "Confidence: 0.5614033456781079\n",
      "Unable to read the file with the detected encoding.\n",
      "Trying different encodings:\n",
      "File read successfully with utf-8 encoding.\n",
      "   Unnamed: 0  S.No              USERNAME  \\\n",
      "0           0     1         mikequindazzi   \n",
      "1           1     2       drgorillapaints   \n",
      "2           2     3    aitrading_official   \n",
      "3           3     4  opensourcedworkplace   \n",
      "4           4     5           crea.vision   \n",
      "\n",
      "                                             Caption  Followers  \\\n",
      "0  Who are #DataScientist and what do they do? >>...       1600   \n",
      "1  We all know where it’s going. We just have to ...        880   \n",
      "2  Alexander Barinov: 4 years as CFO in multinati...        255   \n",
      "3                                               sfad        340   \n",
      "4  Ever missed a call while your phone was chargi...        304   \n",
      "\n",
      "                                            Hashtags Time since posted  Likes  \n",
      "0  #MachineLearning #AI #DataAnalytics #DataScien...          11 hours    139  \n",
      "1   #deck .#mac #macintosh#sayhello #apple #steve...           2 hours     23  \n",
      "2  #whoiswho #aitrading #ai #aitradingteam#instat...           2 hours     25  \n",
      "3  #iot #cre#workplace #CDO #bigdata #technology#...           3 hours     49  \n",
      "4  #instamachinelearning #instabigdata#instamarke...           3 hours     30  \n"
     ]
    }
   ],
   "source": [
    "import chardet\n",
    "import pandas as pd\n",
    "\n",
    "# Specify the file path\n",
    "\n",
    "\n",
    "# Open the file in binary mode and read a portion of it to detect the encoding\n",
    "with open(file_path, 'rb') as f:\n",
    "    #print(chardet.detect(f.read()))\n",
    "    raw_data = f.read(100000)  # Read the first 100,000 bytes or adjust as needed\n",
    "\n",
    "# Detect the encoding of the file\n",
    "result = chardet.detect(raw_data)\n",
    "encoding = result['encoding']\n",
    "confidence = result['confidence']\n",
    "\n",
    "print(\"Detected Encoding:\", encoding)\n",
    "print(\"Confidence:\", confidence)\n",
    "error =False\n",
    "# Read the file using the detected encoding\n",
    "try:\n",
    "    data = pd.read_csv(file_path, encoding=encoding)\n",
    "    print(\"File read successfully with detected encoding.\")\n",
    "    print(data.head())\n",
    "except UnicodeDecodeError:\n",
    "    print(\"Unable to read the file with the detected encoding.\")\n",
    "    error =True\n",
    "\n",
    "# If unable to read the file, try different encodings manually\n",
    "if error:\n",
    "    print(\"Trying different encodings:\")\n",
    "\n",
    "    encodings_to_try = ['utf-8', 'latin1', 'cp1252']  # Add more encodings to try if needed\n",
    "\n",
    "    for encoding in encodings_to_try:\n",
    "        try:\n",
    "            data = pd.read_csv(file_path, encoding=encoding, index_col=False)\n",
    "            print(f\"File read successfully with {encoding} encoding.\")\n",
    "            print(data.head())\n",
    "            break\n",
    "        except UnicodeDecodeError:\n",
    "            print(f\"Unable to read the file with {encoding} encoding.\")\n",
    "else:\n",
    "    print(\"Detected encoding has sufficient confidence.\")\n"
   ]
  },
  {
   "cell_type": "code",
   "execution_count": 24,
   "id": "2bf58ac2",
   "metadata": {},
   "outputs": [
    {
     "data": {
      "text/html": [
       "<div>\n",
       "<style scoped>\n",
       "    .dataframe tbody tr th:only-of-type {\n",
       "        vertical-align: middle;\n",
       "    }\n",
       "\n",
       "    .dataframe tbody tr th {\n",
       "        vertical-align: top;\n",
       "    }\n",
       "\n",
       "    .dataframe thead th {\n",
       "        text-align: right;\n",
       "    }\n",
       "</style>\n",
       "<table border=\"1\" class=\"dataframe\">\n",
       "  <thead>\n",
       "    <tr style=\"text-align: right;\">\n",
       "      <th></th>\n",
       "      <th>Unnamed: 0</th>\n",
       "      <th>S.No</th>\n",
       "      <th>USERNAME</th>\n",
       "      <th>Caption</th>\n",
       "      <th>Followers</th>\n",
       "      <th>Hashtags</th>\n",
       "      <th>Time since posted</th>\n",
       "      <th>Likes</th>\n",
       "    </tr>\n",
       "  </thead>\n",
       "  <tbody>\n",
       "    <tr>\n",
       "      <th>0</th>\n",
       "      <td>0</td>\n",
       "      <td>1</td>\n",
       "      <td>mikequindazzi</td>\n",
       "      <td>Who are #DataScientist and what do they do? &gt;&gt;...</td>\n",
       "      <td>1600</td>\n",
       "      <td>#MachineLearning #AI #DataAnalytics #DataScien...</td>\n",
       "      <td>11 hours</td>\n",
       "      <td>139</td>\n",
       "    </tr>\n",
       "    <tr>\n",
       "      <th>1</th>\n",
       "      <td>1</td>\n",
       "      <td>2</td>\n",
       "      <td>drgorillapaints</td>\n",
       "      <td>We all know where it’s going. We just have to ...</td>\n",
       "      <td>880</td>\n",
       "      <td>#deck .#mac #macintosh#sayhello #apple #steve...</td>\n",
       "      <td>2 hours</td>\n",
       "      <td>23</td>\n",
       "    </tr>\n",
       "  </tbody>\n",
       "</table>\n",
       "</div>"
      ],
      "text/plain": [
       "   Unnamed: 0  S.No         USERNAME  \\\n",
       "0           0     1    mikequindazzi   \n",
       "1           1     2  drgorillapaints   \n",
       "\n",
       "                                             Caption  Followers  \\\n",
       "0  Who are #DataScientist and what do they do? >>...       1600   \n",
       "1  We all know where it’s going. We just have to ...        880   \n",
       "\n",
       "                                            Hashtags Time since posted  Likes  \n",
       "0  #MachineLearning #AI #DataAnalytics #DataScien...          11 hours    139  \n",
       "1   #deck .#mac #macintosh#sayhello #apple #steve...           2 hours     23  "
      ]
     },
     "execution_count": 24,
     "metadata": {},
     "output_type": "execute_result"
    }
   ],
   "source": [
    "data.head(2)"
   ]
  },
  {
   "cell_type": "code",
   "execution_count": 25,
   "id": "aa2acc4e",
   "metadata": {},
   "outputs": [
    {
     "data": {
      "text/html": [
       "<div>\n",
       "<style scoped>\n",
       "    .dataframe tbody tr th:only-of-type {\n",
       "        vertical-align: middle;\n",
       "    }\n",
       "\n",
       "    .dataframe tbody tr th {\n",
       "        vertical-align: top;\n",
       "    }\n",
       "\n",
       "    .dataframe thead th {\n",
       "        text-align: right;\n",
       "    }\n",
       "</style>\n",
       "<table border=\"1\" class=\"dataframe\">\n",
       "  <thead>\n",
       "    <tr style=\"text-align: right;\">\n",
       "      <th></th>\n",
       "      <th>USERNAME</th>\n",
       "      <th>Caption</th>\n",
       "      <th>Followers</th>\n",
       "      <th>Hashtags</th>\n",
       "      <th>Time since posted</th>\n",
       "      <th>Likes</th>\n",
       "    </tr>\n",
       "  </thead>\n",
       "  <tbody>\n",
       "    <tr>\n",
       "      <th>0</th>\n",
       "      <td>mikequindazzi</td>\n",
       "      <td>Who are #DataScientist and what do they do? &gt;&gt;...</td>\n",
       "      <td>1600</td>\n",
       "      <td>#MachineLearning #AI #DataAnalytics #DataScien...</td>\n",
       "      <td>11 hours</td>\n",
       "      <td>139</td>\n",
       "    </tr>\n",
       "    <tr>\n",
       "      <th>1</th>\n",
       "      <td>drgorillapaints</td>\n",
       "      <td>We all know where it’s going. We just have to ...</td>\n",
       "      <td>880</td>\n",
       "      <td>#deck .#mac #macintosh#sayhello #apple #steve...</td>\n",
       "      <td>2 hours</td>\n",
       "      <td>23</td>\n",
       "    </tr>\n",
       "  </tbody>\n",
       "</table>\n",
       "</div>"
      ],
      "text/plain": [
       "          USERNAME                                            Caption  \\\n",
       "0    mikequindazzi  Who are #DataScientist and what do they do? >>...   \n",
       "1  drgorillapaints  We all know where it’s going. We just have to ...   \n",
       "\n",
       "   Followers                                           Hashtags  \\\n",
       "0       1600  #MachineLearning #AI #DataAnalytics #DataScien...   \n",
       "1        880   #deck .#mac #macintosh#sayhello #apple #steve...   \n",
       "\n",
       "  Time since posted  Likes  \n",
       "0          11 hours    139  \n",
       "1           2 hours     23  "
      ]
     },
     "execution_count": 25,
     "metadata": {},
     "output_type": "execute_result"
    }
   ],
   "source": [
    "import pandas as pd\n",
    "from sklearn.model_selection import train_test_split, GridSearchCV\n",
    "from sklearn.ensemble import RandomForestRegressor\n",
    "from sklearn.metrics import mean_squared_error, mean_absolute_error, r2_score\n",
    "\n",
    "\n",
    "# Drop irrelevant columns\n",
    "data.drop(['S.No','Unnamed: 0'], axis=1, inplace=True)\n",
    "data.head(2)"
   ]
  },
  {
   "cell_type": "code",
   "execution_count": 26,
   "id": "dba5dcea",
   "metadata": {},
   "outputs": [
    {
     "data": {
      "text/html": [
       "<div>\n",
       "<style scoped>\n",
       "    .dataframe tbody tr th:only-of-type {\n",
       "        vertical-align: middle;\n",
       "    }\n",
       "\n",
       "    .dataframe tbody tr th {\n",
       "        vertical-align: top;\n",
       "    }\n",
       "\n",
       "    .dataframe thead th {\n",
       "        text-align: right;\n",
       "    }\n",
       "</style>\n",
       "<table border=\"1\" class=\"dataframe\">\n",
       "  <thead>\n",
       "    <tr style=\"text-align: right;\">\n",
       "      <th></th>\n",
       "      <th>USERNAME</th>\n",
       "      <th>Caption</th>\n",
       "      <th>Followers</th>\n",
       "      <th>Hashtags</th>\n",
       "      <th>Time since posted</th>\n",
       "      <th>Likes</th>\n",
       "    </tr>\n",
       "  </thead>\n",
       "  <tbody>\n",
       "    <tr>\n",
       "      <th>0</th>\n",
       "      <td>mikequindazzi</td>\n",
       "      <td>Who are #DataScientist and what do they do? &gt;&gt;...</td>\n",
       "      <td>1600</td>\n",
       "      <td>#MachineLearning #AI #DataAnalytics #DataScien...</td>\n",
       "      <td>11</td>\n",
       "      <td>139</td>\n",
       "    </tr>\n",
       "    <tr>\n",
       "      <th>1</th>\n",
       "      <td>drgorillapaints</td>\n",
       "      <td>We all know where it’s going. We just have to ...</td>\n",
       "      <td>880</td>\n",
       "      <td>#deck .#mac #macintosh#sayhello #apple #steve...</td>\n",
       "      <td>2</td>\n",
       "      <td>23</td>\n",
       "    </tr>\n",
       "  </tbody>\n",
       "</table>\n",
       "</div>"
      ],
      "text/plain": [
       "          USERNAME                                            Caption  \\\n",
       "0    mikequindazzi  Who are #DataScientist and what do they do? >>...   \n",
       "1  drgorillapaints  We all know where it’s going. We just have to ...   \n",
       "\n",
       "   Followers                                           Hashtags  \\\n",
       "0       1600  #MachineLearning #AI #DataAnalytics #DataScien...   \n",
       "1        880   #deck .#mac #macintosh#sayhello #apple #steve...   \n",
       "\n",
       "   Time since posted  Likes  \n",
       "0                 11    139  \n",
       "1                  2     23  "
      ]
     },
     "execution_count": 26,
     "metadata": {},
     "output_type": "execute_result"
    }
   ],
   "source": [
    "\n",
    "# Convert time since posted to numeric representation (e.g., hours)\n",
    "data['Time since posted'] = data['Time since posted'].apply(lambda x: int(x.split()[0]) if 'hour' in x else 0)\n",
    "data.head(2)\n"
   ]
  },
  {
   "cell_type": "code",
   "execution_count": 14,
   "id": "e1f3297d",
   "metadata": {},
   "outputs": [
    {
     "name": "stdout",
     "output_type": "stream",
     "text": [
      "Best Hyperparameters: {'max_depth': 3, 'min_samples_leaf': 1, 'min_samples_split': 10, 'n_estimators': 250}\n",
      "Mean Squared Error (MSE): 724.5734287311194\n",
      "Mean Absolute Error (MAE): 13.44981333025829\n",
      "R-squared (R2): -0.04463147271931678\n"
     ]
    }
   ],
   "source": [
    "# Split the dataset into input features (X) and target variables (y)\n",
    "X = data.drop(['Likes', 'Time since posted'], axis=1)\n",
    "y = data[['Likes', 'Time since posted']]\n",
    "\n",
    "# Convert categorical variables to numerical representation using one-hot encoding\n",
    "X = pd.get_dummies(X)\n",
    "\n",
    "# Split the data into training and testing sets\n",
    "X_train, X_test, y_train, y_test = train_test_split(X, y, test_size=0.2, random_state=42)\n",
    "\n",
    "# Initialize a Random Forest Regressor model\n",
    "model = RandomForestRegressor(random_state=42)\n",
    "\n",
    "# Define hyperparameters to tune\n",
    "param_grid = {\n",
    "    'n_estimators': [100, 200, 300, 250,275,10,50,75,5],\n",
    "    'max_depth': [None, 5, 10,2,3,7],\n",
    "    'min_samples_split': [2, 5, 10],\n",
    "    'min_samples_leaf': [1, 2, 4,3,6,7]\n",
    "}\n",
    "\n",
    "# Perform grid search to find the best hyperparameters\n",
    "grid_search = GridSearchCV(estimator=model, param_grid=param_grid, cv=3)\n",
    "grid_search.fit(X_train, y_train)\n",
    "\n",
    "# Get the best model and its hyperparameters\n",
    "best_model = grid_search.best_estimator_\n",
    "best_params = grid_search.best_params_\n",
    "\n",
    "# Make predictions on the test set using the best model\n",
    "y_pred = best_model.predict(X_test)\n",
    "\n",
    "# Evaluate the model\n",
    "mse = mean_squared_error(y_test, y_pred)\n",
    "mae = mean_absolute_error(y_test, y_pred)\n",
    "r2 = r2_score(y_test, y_pred)\n",
    "\n",
    "print(\"Best Hyperparameters:\", best_params)\n",
    "print(\"Mean Squared Error (MSE):\", mse)\n",
    "print(\"Mean Absolute Error (MAE):\", mae)\n",
    "print(\"R-squared (R2):\", r2)\n"
   ]
  },
  {
   "cell_type": "markdown",
   "id": "afdfb0f7",
   "metadata": {},
   "source": [
    "### Lets Do EDA as Result is very bad"
   ]
  },
  {
   "cell_type": "code",
   "execution_count": 27,
   "id": "4b7cd77b",
   "metadata": {},
   "outputs": [
    {
     "name": "stdout",
     "output_type": "stream",
     "text": [
      "Followers            0.251154\n",
      "Time since posted    1.000000\n",
      "Likes                0.609888\n",
      "Name: Time since posted, dtype: float64\n"
     ]
    }
   ],
   "source": [
    "correlation_matrix = data.corr()\n",
    "time_since_posted_correlation = correlation_matrix['Time since posted']\n",
    "print(time_since_posted_correlation)\n"
   ]
  },
  {
   "cell_type": "markdown",
   "id": "d2b15588",
   "metadata": {},
   "source": [
    "#  Followers\" has a positive correlation coefficient of 0.251154 with \"Time Since Posted\". This suggests a weak positive relationship between the number of followers and the time since a post was made.\n",
    "\n",
    "## Likes\" has a higher positive correlation coefficient of 0.609888 with \"Time Since Posted\". This indicates a stronger positive relationship between the number of likes and the time since a post was made.\n",
    "\n",
    "## Seems \"Time Since Posted\" is a feature rather than dependent variable."
   ]
  },
  {
   "cell_type": "code",
   "execution_count": 21,
   "id": "b4fca42d",
   "metadata": {},
   "outputs": [
    {
     "data": {
      "image/png": "[encoded data removed]",
      "text/plain": [
       "<Figure size 432x288 with 1 Axes>"
      ]
     },
     "metadata": {
      "needs_background": "light"
     },
     "output_type": "display_data"
    }
   ],
   "source": [
    "import matplotlib.pyplot as plt\n",
    "\n",
    "plt.scatter(data['Time since posted'], data['Followers'])\n",
    "plt.xlabel('Time Since Posted')\n",
    "plt.ylabel('Followers')\n",
    "plt.title('Scatter plot: Time Since Posted vs. Followers')\n",
    "plt.show()"
   ]
  },
  {
   "cell_type": "code",
   "execution_count": 28,
   "id": "8781fa48",
   "metadata": {},
   "outputs": [
    {
     "name": "stdout",
     "output_type": "stream",
     "text": [
      "<class 'pandas.core.frame.DataFrame'>\n",
      "RangeIndex: 100 entries, 0 to 99\n",
      "Data columns (total 6 columns):\n",
      " #   Column             Non-Null Count  Dtype \n",
      "---  ------             --------------  ----- \n",
      " 0   USERNAME           100 non-null    object\n",
      " 1   Caption            94 non-null     object\n",
      " 2   Followers          100 non-null    int64 \n",
      " 3   Hashtags           100 non-null    object\n",
      " 4   Time since posted  100 non-null    int64 \n",
      " 5   Likes              100 non-null    int64 \n",
      "dtypes: int64(3), object(3)\n",
      "memory usage: 4.8+ KB\n"
     ]
    }
   ],
   "source": [
    "data.info()"
   ]
  },
  {
   "cell_type": "code",
   "execution_count": 29,
   "id": "235b6c94",
   "metadata": {},
   "outputs": [],
   "source": [
    "df2 = data.copy()"
   ]
  },
  {
   "cell_type": "code",
   "execution_count": 30,
   "id": "a0e6caab",
   "metadata": {},
   "outputs": [],
   "source": [
    "df2=df2.dropna()"
   ]
  },
  {
   "cell_type": "code",
   "execution_count": 32,
   "id": "f39c459f",
   "metadata": {},
   "outputs": [
    {
     "data": {
      "text/plain": [
       "90"
      ]
     },
     "execution_count": 32,
     "metadata": {},
     "output_type": "execute_result"
    }
   ],
   "source": [
    "df2['USERNAME'].nunique()"
   ]
  },
  {
   "cell_type": "code",
   "execution_count": 33,
   "id": "bd85d4c5",
   "metadata": {},
   "outputs": [
    {
     "name": "stdout",
     "output_type": "stream",
     "text": [
      "<class 'pandas.core.frame.DataFrame'>\n",
      "Int64Index: 94 entries, 0 to 99\n",
      "Data columns (total 6 columns):\n",
      " #   Column             Non-Null Count  Dtype \n",
      "---  ------             --------------  ----- \n",
      " 0   USERNAME           94 non-null     object\n",
      " 1   Caption            94 non-null     object\n",
      " 2   Followers          94 non-null     int64 \n",
      " 3   Hashtags           94 non-null     object\n",
      " 4   Time since posted  94 non-null     int64 \n",
      " 5   Likes              94 non-null     int64 \n",
      "dtypes: int64(3), object(3)\n",
      "memory usage: 5.1+ KB\n"
     ]
    }
   ],
   "source": [
    "df2.info()"
   ]
  },
  {
   "cell_type": "code",
   "execution_count": 39,
   "id": "cc0c5a60",
   "metadata": {},
   "outputs": [
    {
     "data": {
      "text/plain": [
       "0     139\n",
       "1      23\n",
       "2      25\n",
       "3      49\n",
       "4      30\n",
       "     ... \n",
       "95     31\n",
       "96     42\n",
       "97     10\n",
       "98    222\n",
       "99    109\n",
       "Name: Likes, Length: 94, dtype: int64"
      ]
     },
     "execution_count": 39,
     "metadata": {},
     "output_type": "execute_result"
    }
   ],
   "source": [
    "# Prepare the data\n",
    "X = df2.drop(['Likes'], axis=1)\n",
    "y_likes = df2['Likes']\n"
   ]
  },
  {
   "cell_type": "markdown",
   "id": "efaeaf0f",
   "metadata": {},
   "source": [
    "90 unique username "
   ]
  },
  {
   "cell_type": "code",
   "execution_count": 85,
   "id": "a06cac56",
   "metadata": {},
   "outputs": [
    {
     "name": "stdout",
     "output_type": "stream",
     "text": [
      "Who are #DataScientist and what do they do? >> @MikeQuindazzi >> #MachineLearning #AI #DataAnalytics #DataScienc #DataLake >> https://buff.ly/2kYmF0s\n"
     ]
    }
   ],
   "source": [
    "print(data['Caption'][0])\n"
   ]
  },
  {
   "cell_type": "code",
   "execution_count": 84,
   "id": "08bdd309",
   "metadata": {},
   "outputs": [
    {
     "name": "stdout",
     "output_type": "stream",
     "text": [
      "#MachineLearning #AI #DataAnalytics #DataScienc #DataLake\n"
     ]
    }
   ],
   "source": [
    "print(data['Hashtags'][0])"
   ]
  },
  {
   "cell_type": "code",
   "execution_count": 47,
   "id": "5931dfca",
   "metadata": {},
   "outputs": [
    {
     "name": "stdout",
     "output_type": "stream",
     "text": [
      "Followers            0.251154\n",
      "Time since posted    1.000000\n",
      "Likes                0.609888\n",
      "Name: Time since posted, dtype: float64\n"
     ]
    }
   ],
   "source": [
    "correlation_matrix = data.corr()\n",
    "time_since_posted_correlation = correlation_matrix['Time since posted']\n",
    "print(time_since_posted_correlation)"
   ]
  },
  {
   "cell_type": "code",
   "execution_count": 48,
   "id": "67c6c6e6",
   "metadata": {},
   "outputs": [
    {
     "data": {
      "text/plain": [
       "Followers            0.266218\n",
       "Time since posted    0.609888\n",
       "Likes                1.000000\n",
       "Name: Likes, dtype: float64"
      ]
     },
     "execution_count": 48,
     "metadata": {},
     "output_type": "execute_result"
    }
   ],
   "source": [
    "likes_correlation = correlation_matrix['Likes']\n",
    "likes_correlation"
   ]
  },
  {
   "cell_type": "code",
   "execution_count": 53,
   "id": "04b1ca97",
   "metadata": {},
   "outputs": [
    {
     "data": {
      "image/png": "[encoded data removed]",
      "text/plain": [
       "<Figure size 720x432 with 1 Axes>"
      ]
     },
     "metadata": {
      "needs_background": "light"
     },
     "output_type": "display_data"
    }
   ],
   "source": [
    "# Feature Importance Code\n",
    "\n",
    "import pandas as pd\n",
    "from sklearn.preprocessing import LabelEncoder\n",
    "from sklearn.ensemble import RandomForestRegressor\n",
    "from sklearn.model_selection import train_test_split\n",
    "import matplotlib.pyplot as plt\n",
    "from sklearn.linear_model import LinearRegression\n",
    "\n",
    "\n",
    "# Prepare the data\n",
    "X = data.drop(['Likes'], axis=1)\n",
    "y_likes = data['Likes']\n",
    "\n",
    "# Encode the username column using label encoding\n",
    "encoder = LabelEncoder()\n",
    "X['USERNAME'] = encoder.fit_transform(X['USERNAME'])\n",
    "X['Caption'] = encoder.fit_transform(X['Caption'])\n",
    "X['Hashtags'] = encoder.fit_transform(X['Hashtags'])\n",
    "\n",
    "\n",
    "# Split the data into training and testing sets\n",
    "X_train, X_test, y_train, y_test = train_test_split(X, y_likes, test_size=0.2, random_state=42)\n",
    "\n",
    "# Initialize and train the random forest regressor\n",
    "rf = RandomForestRegressor(random_state=42)\n",
    "rf.fit(X_train, y_train)\n",
    "\n",
    "# Get the feature importances\n",
    "importances = rf.feature_importances_\n",
    "\n",
    "# Sort the feature importances in descending order\n",
    "sorted_indices = importances.argsort()[::-1]\n",
    "sorted_importances = importances[sorted_indices]\n",
    "\n",
    "# Get the feature names\n",
    "feature_names = X.columns[sorted_indices]\n",
    "\n",
    "# Plot the feature importances\n",
    "plt.figure(figsize=(10, 6))\n",
    "plt.barh(range(len(sorted_importances)), sorted_importances, tick_label=feature_names)\n",
    "plt.xlabel('Feature Importance')\n",
    "plt.ylabel('Features')\n",
    "plt.title('Feature Importance from Random Forest')\n",
    "plt.show()\n"
   ]
  },
  {
   "cell_type": "markdown",
   "id": "47f54cd4",
   "metadata": {},
   "source": [
    "We can see Likes has relationship with Time Since posted and followers. This furthers tells us that Time Since posted should be features"
   ]
  },
  {
   "cell_type": "markdown",
   "id": "8433b925",
   "metadata": {},
   "source": [
    "Lets use scatterplot to visualize the same"
   ]
  },
  {
   "cell_type": "code",
   "execution_count": 62,
   "id": "64b7acc0",
   "metadata": {},
   "outputs": [
    {
     "data": {
      "image/png": "[encoded data removed]",
      "text/plain": [
       "<Figure size 360x360 with 1 Axes>"
      ]
     },
     "metadata": {
      "needs_background": "light"
     },
     "output_type": "display_data"
    }
   ],
   "source": [
    "import seaborn as sns\n",
    "sns.lmplot(x='Time since posted', y='Likes', data=data, fit_reg=True)\n",
    "plt.xlabel('Time since posted')\n",
    "plt.ylabel('Likes')\n",
    "plt.show()"
   ]
  },
  {
   "cell_type": "code",
   "execution_count": 63,
   "id": "830c9bc6",
   "metadata": {},
   "outputs": [
    {
     "data": {
      "image/png": "[encoded data removed]",
      "text/plain": [
       "<Figure size 360x360 with 1 Axes>"
      ]
     },
     "metadata": {
      "needs_background": "light"
     },
     "output_type": "display_data"
    }
   ],
   "source": [
    "sns.lmplot(x='Followers', y='Likes', data=data, fit_reg=True)\n",
    "plt.xlabel('Followers')\n",
    "plt.ylabel('Likes')\n",
    "plt.show()"
   ]
  },
  {
   "cell_type": "code",
   "execution_count": 57,
   "id": "18d31e38",
   "metadata": {},
   "outputs": [
    {
     "data": {
      "text/plain": [
       "0     139\n",
       "1      23\n",
       "2      25\n",
       "3      49\n",
       "4      30\n",
       "     ... \n",
       "95     31\n",
       "96     42\n",
       "97     10\n",
       "98    222\n",
       "99    109\n",
       "Name: Likes, Length: 100, dtype: int64"
      ]
     },
     "execution_count": 57,
     "metadata": {},
     "output_type": "execute_result"
    }
   ],
   "source": [
    "from sklearn.feature_selection import SelectKBest, f_regression\n",
    "from sklearn.feature_selection import f_classif\n",
    "# Prepare the data\n",
    "X = data.drop(['Likes'], axis=1)\n",
    "y_likes = data['Likes']\n",
    "\n",
    "# define feature selection\n",
    "#fs = SelectKBest(score_func=f_classif, k=2)\n",
    "# apply feature selection\n",
    "#X_selected = fs.fit_transform(X, y)\n",
    "#print(X_selected.shape)\n",
    "y_likes"
   ]
  },
  {
   "cell_type": "code",
   "execution_count": 64,
   "id": "75b8f8c0",
   "metadata": {},
   "outputs": [],
   "source": [
    "def perform_grid_search(model, param_grid, X, y):\n",
    "    grid_search = GridSearchCV(model, param_grid, cv=5, scoring='neg_mean_squared_error')\n",
    "    #grid_search = GridSearchCV(model, param_grid, cv=3, scoring='neg_mean_squared_error')\n",
    "    grid_search.fit(X, y)\n",
    "    best_params = grid_search.best_params_\n",
    "    return best_params\n"
   ]
  },
  {
   "cell_type": "code",
   "execution_count": 65,
   "id": "07043960",
   "metadata": {},
   "outputs": [],
   "source": [
    "def plot_feature_importance(importances, feature_names, model_name):\n",
    "    sorted_indices = importances.argsort()[::-1]\n",
    "    sorted_importances = importances[sorted_indices]\n",
    "    sorted_feature_names = feature_names[sorted_indices]\n",
    "\n",
    "    plt.figure(figsize=(10, 6))\n",
    "    plt.barh(range(len(sorted_importances)), sorted_importances, tick_label=sorted_feature_names)\n",
    "    plt.xlabel('Feature Importance')\n",
    "    plt.ylabel('Features')\n",
    "    plt.title(f'Feature Importance from {model_name}')\n",
    "    plt.show()"
   ]
  },
  {
   "cell_type": "code",
   "execution_count": 69,
   "id": "a855aa14",
   "metadata": {},
   "outputs": [
    {
     "name": "stdout",
     "output_type": "stream",
     "text": [
      "Collecting xgboost\n",
      "  Downloading xgboost-1.7.5-py3-none-win_amd64.whl (70.9 MB)\n",
      "Requirement already satisfied: numpy in c:\\users\\0002j0744\\appdata\\local\\programs\\python\\python39\\lib\\site-packages (from xgboost) (1.22.2)\n",
      "Requirement already satisfied: scipy in c:\\users\\0002j0744\\appdata\\local\\programs\\python\\python39\\lib\\site-packages (from xgboost) (1.8.1)\n",
      "Note: you may need to restart the kernel to use updated packages.Installing collected packages: xgboost\n",
      "Successfully installed xgboost-1.7.5\n",
      "\n"
     ]
    },
    {
     "name": "stderr",
     "output_type": "stream",
     "text": [
      "WARNING: You are using pip version 21.2.4; however, version 23.1.2 is available.\n",
      "You should consider upgrading via the 'C:\\Users\\0002J0744\\AppData\\Local\\Programs\\Python\\Python39\\python.exe -m pip install --upgrade pip' command.\n"
     ]
    }
   ],
   "source": [
    "pip install xgboost\n"
   ]
  },
  {
   "cell_type": "code",
   "execution_count": 70,
   "id": "f1f53613",
   "metadata": {},
   "outputs": [],
   "source": [
    "import pandas as pd\n",
    "from sklearn.model_selection import train_test_split, GridSearchCV\n",
    "from sklearn.preprocessing import LabelEncoder\n",
    "from sklearn.metrics import mean_squared_error\n",
    "from xgboost import XGBRegressor\n",
    "from sklearn.ensemble import RandomForestRegressor\n",
    "import matplotlib.pyplot as plt\n",
    "\n",
    "\n",
    "# Preprocessing\n",
    "X = data.drop(['Likes'], axis=1)\n",
    "y_likes = data['Likes']\n",
    "\n",
    "# Split the data into training and testing sets\n",
    "X_train, X_test, y_train_likes, y_test_likes = train_test_split(X, y_likes, test_size=0.2, random_state=42)\n",
    "\n"
   ]
  },
  {
   "cell_type": "code",
   "execution_count": 79,
   "id": "6d09a42c",
   "metadata": {},
   "outputs": [
    {
     "data": {
      "text/html": [
       "<div>\n",
       "<style scoped>\n",
       "    .dataframe tbody tr th:only-of-type {\n",
       "        vertical-align: middle;\n",
       "    }\n",
       "\n",
       "    .dataframe tbody tr th {\n",
       "        vertical-align: top;\n",
       "    }\n",
       "\n",
       "    .dataframe thead th {\n",
       "        text-align: right;\n",
       "    }\n",
       "</style>\n",
       "<table border=\"1\" class=\"dataframe\">\n",
       "  <thead>\n",
       "    <tr style=\"text-align: right;\">\n",
       "      <th></th>\n",
       "      <th>Followers</th>\n",
       "      <th>Time since posted</th>\n",
       "    </tr>\n",
       "  </thead>\n",
       "  <tbody>\n",
       "    <tr>\n",
       "      <th>55</th>\n",
       "      <td>3448</td>\n",
       "      <td>24</td>\n",
       "    </tr>\n",
       "    <tr>\n",
       "      <th>88</th>\n",
       "      <td>1158</td>\n",
       "      <td>2</td>\n",
       "    </tr>\n",
       "  </tbody>\n",
       "</table>\n",
       "</div>"
      ],
      "text/plain": [
       "    Followers  Time since posted\n",
       "55       3448                 24\n",
       "88       1158                  2"
      ]
     },
     "execution_count": 79,
     "metadata": {},
     "output_type": "execute_result"
    }
   ],
   "source": [
    "X_train.head(2)"
   ]
  },
  {
   "cell_type": "code",
   "execution_count": 80,
   "id": "c042fc2c",
   "metadata": {},
   "outputs": [
    {
     "data": {
      "text/html": [
       "<div>\n",
       "<style scoped>\n",
       "    .dataframe tbody tr th:only-of-type {\n",
       "        vertical-align: middle;\n",
       "    }\n",
       "\n",
       "    .dataframe tbody tr th {\n",
       "        vertical-align: top;\n",
       "    }\n",
       "\n",
       "    .dataframe thead th {\n",
       "        text-align: right;\n",
       "    }\n",
       "</style>\n",
       "<table border=\"1\" class=\"dataframe\">\n",
       "  <thead>\n",
       "    <tr style=\"text-align: right;\">\n",
       "      <th></th>\n",
       "      <th>Followers</th>\n",
       "      <th>Time since posted</th>\n",
       "    </tr>\n",
       "  </thead>\n",
       "  <tbody>\n",
       "    <tr>\n",
       "      <th>83</th>\n",
       "      <td>91</td>\n",
       "      <td>3</td>\n",
       "    </tr>\n",
       "    <tr>\n",
       "      <th>53</th>\n",
       "      <td>87</td>\n",
       "      <td>4</td>\n",
       "    </tr>\n",
       "  </tbody>\n",
       "</table>\n",
       "</div>"
      ],
      "text/plain": [
       "    Followers  Time since posted\n",
       "83         91                  3\n",
       "53         87                  4"
      ]
     },
     "execution_count": 80,
     "metadata": {},
     "output_type": "execute_result"
    }
   ],
   "source": [
    "X_test.head(2)"
   ]
  },
  {
   "cell_type": "code",
   "execution_count": 78,
   "id": "30ddfd05",
   "metadata": {},
   "outputs": [],
   "source": [
    "# Encode the categorical feature 'USERNAME' using LabelEncoder\n",
    "#encoder = LabelEncoder()\n",
    "\n",
    "\n",
    "#X_train['USERNAME'] = encoder.fit_transform(X_train['USERNAME'])\n",
    "#X_test['USERNAME'] = encoder.transform(X_test['USERNAME'])\n",
    "\n",
    "#X_train['Caption'] = encoder.fit_transform(X_train['Caption'])\n",
    "#X_test['Caption'] = encoder.transform(X_test['Caption'])\n",
    "#X_train['Hashtags'] = encoder.fit_transform(X_train['Hashtags'])\n",
    "#X_test['Hashtags'] = encoder.transform(X_test['Hashtags'])\n",
    "\n",
    "\n",
    "#Removing Encoding part as this leads to below error :\n",
    "#ValueError: y contains previously unseen labels: 'applewantnews' We can handle the unseen data but this may \n",
    "# affect model performance will try to handle insecond run\n",
    "\n",
    "X = data.drop(['Likes','Caption','Hashtags','USERNAME'], axis=1)\n",
    "y_likes = data['Likes']\n",
    "\n",
    "# Split the data into training and testing sets\n",
    "X_train, X_test, y_train_likes, y_test_likes = train_test_split(X, y_likes, test_size=0.2, random_state=42)"
   ]
  },
  {
   "cell_type": "code",
   "execution_count": 98,
   "id": "b3e786ca",
   "metadata": {},
   "outputs": [
    {
     "name": "stdout",
     "output_type": "stream",
     "text": [
      "Best Hyperparameters for XGBoost: {'learning_rate': 0.02, 'max_depth': 1, 'n_estimators': 210}\n",
      "Best Hyperparameters for Random Forest: {'max_depth': 2, 'min_samples_leaf': 2, 'min_samples_split': 10, 'n_estimators': 240}\n"
     ]
    }
   ],
   "source": [
    "\n",
    "\n",
    "#Best Hyperparameters: {'max_depth': 3, 'min_samples_leaf': 1, 'min_samples_split': 10, 'n_estimators': 250}\n",
    "# Define hyperparameters to tune\n",
    "#param_grid = {\n",
    " #   'n_estimators': [100, 200, 300, 250,275,10,50,75,5],\n",
    "#    'max_depth': [None, 5, 10,2,3,7],\n",
    "#    'min_samples_split': [2, 5, 10,12],\n",
    "#    'min_samples_leaf': [1, 2, 4,3,6,7]\n",
    "#}\n",
    "\n",
    "\n",
    "# Define the parameter grid for hyperparameter tuning\n",
    "param_grid_xgb = {\n",
    "    #'n_estimators': [100,150,175,125,200],\n",
    "    'n_estimators': [200,210,250,300],\n",
    "    'max_depth': [1,2,3],\n",
    "    'learning_rate': [ 0.01, .02, .05,.010]\n",
    "}\n",
    "\n",
    "param_grid_rf = {\n",
    "    'n_estimators': [240],\n",
    "    'max_depth': [None, 5, 10,2,3,7],\n",
    "    'min_samples_split': [2, 5, 10],\n",
    "    'min_samples_leaf': [1, 2, 4,3,6,7]\n",
    "}\n",
    "#param_grid_rf = {\n",
    "#    'n_estimators': [250,240,245],\n",
    "#    'max_depth': [1,2,3],\n",
    "#    'min_samples_split': [ 10, 12,13],\n",
    "#    'min_samples_leaf': [1, 2, 4]\n",
    "#}\n",
    "\n",
    "# Initialize the XGBRegressor and RandomForestRegressor\n",
    "xgb = XGBRegressor(random_state=42)\n",
    "rf = RandomForestRegressor(random_state=42)\n",
    "\n",
    "# Perform hyperparameter tuning for XGBoost using GridSearchCV\n",
    "best_params_xgb = perform_grid_search(xgb, param_grid_xgb, X_train, y_train_likes)\n",
    "print(\"Best Hyperparameters for XGBoost:\", best_params_xgb)\n",
    "\n",
    "# Perform hyperparameter tuning for Random Forest using GridSearchCV\n",
    "best_params_rf = perform_grid_search(rf, param_grid_rf, X_train, y_train_likes)\n",
    "print(\"Best Hyperparameters for Random Forest:\", best_params_rf)\n",
    "\n",
    "# Initialize the XGBRegressor and RandomForestRegressor with the best hyperparameters\n",
    "xgb_best = XGBRegressor(**best_params_xgb, random_state=42)\n",
    "rf_best = RandomForestRegressor(**best_params_rf, random_state=42)\n",
    "\n",
    "# Train the XGBoost model with the best hyperparameters\n",
    "xgb_best.fit(X_train, y_train_likes)\n",
    "\n",
    "# Train the Random Forest model with the best hyperparameters\n",
    "rf_best.fit(X_train, y_train_likes)\n",
    "\n",
    "# Make predictions on the test set using XGBoost\n",
    "y_pred_likes_xgb = xgb_best.predict(X_test)\n",
    "\n",
    "# Make predictions on the test set using Random Forest\n",
    "y_pred_likes_rf = rf_best.predict(X_test)"
   ]
  },
  {
   "cell_type": "code",
   "execution_count": 99,
   "id": "d2c11627",
   "metadata": {},
   "outputs": [
    {
     "name": "stdout",
     "output_type": "stream",
     "text": [
      "MSE for XGBoost: 630.3939052620328\n",
      "MSE for Random Forest: 442.18779537363173\n"
     ]
    }
   ],
   "source": [
    "# Evaluate the models\n",
    "mse_likes_xgb = mean_squared_error(y_test_likes, y_pred_likes_xgb)\n",
    "mse_likes_rf = mean_squared_error(y_test_likes, y_pred_likes_rf)\n",
    "\n",
    "print(\"MSE for XGBoost:\", mse_likes_xgb)\n",
    "print(\"MSE for Random Forest:\", mse_likes_rf)\n",
    "\n"
   ]
  },
  {
   "cell_type": "code",
   "execution_count": 100,
   "id": "870aeaa8",
   "metadata": {},
   "outputs": [
    {
     "name": "stdout",
     "output_type": "stream",
     "text": [
      "MAE for XGBoost: 19.25466365814209\n",
      "MAE for Random Forest: 16.145779662937457\n",
      "r2 for XGBoost: 0.5553176661273622\n",
      "r2 for Random Forest: 0.6880789943947676\n"
     ]
    }
   ],
   "source": [
    "# Evaluate the model\n",
    "#mse = mean_squared_error(y_test, y_pred)\n",
    "mae_xgb = mean_absolute_error(y_test_likes, y_pred_likes_xgb)\n",
    "mae_rf = mean_absolute_error(y_test_likes, y_pred_likes_rf)\n",
    "\n",
    "print(\"MAE for XGBoost:\", mae_xgb)\n",
    "print(\"MAE for Random Forest:\", mae_rf)\n",
    "\n",
    "r2_xgb = r2_score(y_test_likes, y_pred_likes_xgb)\n",
    "r2_rf = r2_score(y_test_likes, y_pred_likes_rf)\n",
    "\n",
    "print(\"r2 for XGBoost:\", r2_xgb)\n",
    "print(\"r2 for Random Forest:\", r2_rf)\n",
    "\n"
   ]
  },
  {
   "cell_type": "code",
   "execution_count": 101,
   "id": "cfd7adc8",
   "metadata": {},
   "outputs": [
    {
     "data": {
      "image/png": "[encoded data removed]",
      "text/plain": [
       "<Figure size 720x432 with 1 Axes>"
      ]
     },
     "metadata": {
      "needs_background": "light"
     },
     "output_type": "display_data"
    }
   ],
   "source": [
    "# Get feature importances for XGBoost\n",
    "importances_xgb = xgb_best.feature_importances_\n",
    "feature_names_xgb = X_train.columns\n",
    "\n",
    "# Get feature importances for Random Forest\n",
    "importances_rf = rf_best.feature_importances_\n",
    "feature_names_rf = X_train.columns\n",
    "\n",
    "# Plot feature importances\n",
    "plot_feature_importance(importances_xgb, feature_names_xgb, 'XGBoost')\n"
   ]
  },
  {
   "cell_type": "code",
   "execution_count": 102,
   "id": "b2ee60be",
   "metadata": {},
   "outputs": [
    {
     "data": {
      "image/png": "[encoded data removed]",
      "text/plain": [
       "<Figure size 720x432 with 1 Axes>"
      ]
     },
     "metadata": {
      "needs_background": "light"
     },
     "output_type": "display_data"
    }
   ],
   "source": [
    "plot_feature_importance(importances_rf, feature_names_rf, 'Random Forest')"
   ]
  },
  {
   "cell_type": "code",
   "execution_count": 103,
   "id": "df3144fd",
   "metadata": {},
   "outputs": [],
   "source": [
    "# Lets check with Linear Regression quickly\n",
    "\n"
   ]
  },
  {
   "cell_type": "code",
   "execution_count": 118,
   "id": "47737817",
   "metadata": {},
   "outputs": [
    {
     "name": "stdout",
     "output_type": "stream",
     "text": [
      "Model: Linear Regression\n",
      "MSE: 1279.6807253197944\n",
      "MAE: 26.019245691345382\n",
      "R2 Score: 0.09730819603894936\n",
      "--------------------\n",
      "Model: Random Forest\n",
      "MSE: 567.8036950000001\n",
      "MAE: 15.8255\n",
      "R2 Score: 0.5994690459940992\n",
      "--------------------\n"
     ]
    },
    {
     "name": "stderr",
     "output_type": "stream",
     "text": [
      "C:\\Users\\0002J0744\\AppData\\Local\\Programs\\Python\\Python39\\lib\\site-packages\\sklearn\\preprocessing\\_encoders.py:188: UserWarning: Found unknown categories in columns [0, 1] during transform. These unknown categories will be encoded as all zeros\n",
      "  warnings.warn(\n"
     ]
    }
   ],
   "source": [
    "import pandas as pd\n",
    "from sklearn.model_selection import train_test_split\n",
    "from sklearn.compose import ColumnTransformer\n",
    "from sklearn.preprocessing import StandardScaler, OneHotEncoder\n",
    "from sklearn.linear_model import LinearRegression\n",
    "from sklearn.ensemble import RandomForestRegressor\n",
    "from sklearn.metrics import mean_squared_error, mean_absolute_error, r2_score\n",
    "\n",
    "\n",
    "# Remove special characters from the 'Caption' column\n",
    "data['Caption'] = data['Caption'].str.encode('ascii', 'ignore').str.decode('utf-8')\n",
    "\n",
    "# Split the data into features (X) and target variable (y)\n",
    "X = data.drop(['Likes'], axis=1)\n",
    "y = data['Likes']\n",
    "\n",
    "# Split the data into training and testing sets\n",
    "X_train, X_test, y_train, y_test = train_test_split(X, y, test_size=0.2, random_state=42)\n",
    "\n",
    "# Define categorical and numerical features\n",
    "categorical_features = ['USERNAME', 'Hashtags']\n",
    "numerical_features = ['Followers', 'Time since posted']\n",
    "\n",
    "# Preprocess the data\n",
    "preprocessor = ColumnTransformer([\n",
    "    ('num', StandardScaler(), numerical_features),\n",
    "    ('cat', OneHotEncoder(sparse=False, drop='first', handle_unknown='ignore'), categorical_features)\n",
    "])\n",
    "\n",
    "X_train_preprocessed = preprocessor.fit_transform(X_train)\n",
    "X_test_preprocessed = preprocessor.transform(X_test)\n",
    "\n",
    "# Initialize models\n",
    "models = {\n",
    "    'Linear Regression': LinearRegression(),\n",
    "    'Random Forest': RandomForestRegressor(random_state=42)\n",
    "}\n",
    "\n",
    "# Train and evaluate models\n",
    "for model_name, model in models.items():\n",
    "    model.fit(X_train_preprocessed, y_train)\n",
    "    y_pred = model.predict(X_test_preprocessed)\n",
    "\n",
    "    mse = mean_squared_error(y_test, y_pred)\n",
    "    mae = mean_absolute_error(y_test, y_pred)\n",
    "    r2 = r2_score(y_test, y_pred)\n",
    "\n",
    "    print(f\"Model: {model_name}\")\n",
    "    print(f\"MSE: {mse}\")\n",
    "    print(f\"MAE: {mae}\")\n",
    "    print(f\"R2 Score: {r2}\")\n",
    "    print(\"--------------------\")"
   ]
  },
  {
   "cell_type": "markdown",
   "id": "604bcaf9",
   "metadata": {},
   "source": [
    "## Based on above experiments With OneHotEncoder I am updating the previous code"
   ]
  },
  {
   "cell_type": "code",
   "execution_count": 124,
   "id": "bc682c52",
   "metadata": {},
   "outputs": [
    {
     "name": "stderr",
     "output_type": "stream",
     "text": [
      "C:\\Users\\0002J0744\\AppData\\Local\\Programs\\Python\\Python39\\lib\\site-packages\\sklearn\\preprocessing\\_encoders.py:188: UserWarning: Found unknown categories in columns [0, 1] during transform. These unknown categories will be encoded as all zeros\n",
      "  warnings.warn(\n"
     ]
    },
    {
     "name": "stdout",
     "output_type": "stream",
     "text": [
      "Model: Random Forest\n",
      "MSE: 441.56514069192065\n",
      "MAE: 15.995718243968298\n",
      "R2 Score: 0.6885182174499855\n",
      "--------------------\n",
      "Model: XGBoost\n",
      "MSE: 751.2589807986085\n",
      "MAE: 21.784113121032714\n",
      "R2 Score: 0.47005896767761035\n",
      "--------------------\n"
     ]
    }
   ],
   "source": [
    "import pandas as pd\n",
    "from sklearn.model_selection import train_test_split\n",
    "from sklearn.preprocessing import StandardScaler\n",
    "from sklearn.compose import ColumnTransformer\n",
    "from sklearn.preprocessing import OneHotEncoder\n",
    "from sklearn.ensemble import RandomForestRegressor\n",
    "from sklearn.model_selection import GridSearchCV\n",
    "from sklearn.metrics import mean_squared_error, mean_absolute_error, r2_score\n",
    "import xgboost as xgb\n",
    "import matplotlib.pyplot as plt\n",
    "\n",
    "\n",
    "\n",
    "# Split the data into features (X) and target variable (y)\n",
    "X = data.drop(['Likes','Caption'], axis=1) # Even we can drop username also as we have seen it has not good correlation\n",
    "y = data['Likes']\n",
    "\n",
    "# Split the data into training and testing sets\n",
    "X_train, X_test, y_train, y_test = train_test_split(X, y, test_size=0.2, random_state=42)\n",
    "\n",
    "# Define categorical and numerical features\n",
    "categorical_features = ['USERNAME', 'Hashtags']\n",
    "numerical_features = ['Followers', 'Time since posted']\n",
    "\n",
    "# Preprocess the data\n",
    "preprocessor = ColumnTransformer([\n",
    "    ('num', StandardScaler(), numerical_features),\n",
    "    ('cat', OneHotEncoder(sparse=False, drop='first', handle_unknown='ignore'), categorical_features)\n",
    "])\n",
    "\n",
    "# Fit and transform the training data\n",
    "X_train_preprocessed = preprocessor.fit_transform(X_train)\n",
    "X_test_preprocessed = preprocessor.transform(X_test)\n",
    "\n",
    "# Define the parameter grid for hyperparameter tuning\n",
    "param_grid_xgb = {\n",
    "    #'n_estimators': [100,150,175,125,200],\n",
    "    'n_estimators': [200,210,250,300],\n",
    "    'max_depth': [1,2,3],\n",
    "    'learning_rate': [ 0.01, .02, .05,.010]\n",
    "}\n",
    "\n",
    "param_grid_rf = {\n",
    "    'n_estimators': [240],\n",
    "    'max_depth': [None, 5, 10,2,3,7],\n",
    "    'min_samples_split': [2, 5, 10],\n",
    "    'min_samples_leaf': [1, 2, 4,3,6,7]\n",
    "}\n",
    "\n",
    "# Define models and their respective parameter grids\n",
    "models = {\n",
    "    'Random Forest': (RandomForestRegressor(), param_grid_rf),\n",
    "    'XGBoost': (XGBRegressor(), param_grid_xgb)\n",
    "}\n",
    "\n",
    "\n",
    "# Initialize the XGBRegressor and RandomForestRegressor with the best hyperparameters\n",
    "xgb_best = XGBRegressor(**best_params_xgb, random_state=42)\n",
    "rf_best = RandomForestRegressor(**best_params_rf, random_state=42)\n",
    "\n",
    "\n",
    "# Train and evaluate models\n",
    "for model_name, (model, param_grid) in models.items():\n",
    "    best_param = perform_grid_search(model, param_grid,X_train_preprocessed,y_train)\n",
    "    if model_name == 'Random Forest':        \n",
    "        best_model = RandomForestRegressor(**best_param, random_state=42)    \n",
    "    else:\n",
    "        best_model = XGBRegressor(**best_param, random_state=42)\n",
    "    \n",
    "    # Train the model with the best hyperparameters\n",
    "    best_model.fit(X_train_preprocessed, y_train)\n",
    "    y_pred = best_model.predict(X_test_preprocessed)\n",
    "    \n",
    "    mse = mean_squared_error(y_test, y_pred)\n",
    "    mae = mean_absolute_error(y_test, y_pred)\n",
    "    r2 = r2_score(y_test, y_pred)\n",
    "\n",
    "    print(f\"Model: {model_name}\")\n",
    "    print(f\"MSE: {mse}\")\n",
    "    print(f\"MAE: {mae}\")\n",
    "    print(f\"R2 Score: {r2}\")\n",
    "    print(\"--------------------\")\n"
   ]
  },
  {
   "cell_type": "code",
   "execution_count": null,
   "id": "09934774",
   "metadata": {},
   "outputs": [],
   "source": []
  }
 ],
 "metadata": {
  "hide_input": false,
  "kernelspec": {
   "display_name": "Python 3 (ipykernel)",
   "language": "python",
   "name": "python3"
  },
  "language_info": {
   "codemirror_mode": {
    "name": "ipython",
    "version": 3
   },
   "file_extension": ".py",
   "mimetype": "text/x-python",
   "name": "python",
   "nbconvert_exporter": "python",
   "pygments_lexer": "ipython3",
   "version": "3.9.10"
  }
 },
 "nbformat": 4,
 "nbformat_minor": 5
}
